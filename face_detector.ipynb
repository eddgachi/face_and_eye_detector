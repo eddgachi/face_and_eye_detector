{
 "cells": [
  {
   "cell_type": "markdown",
   "metadata": {},
   "source": [
    "## Face & Eye detector using HAAR Cascade Classifiers"
   ]
  },
  {
   "cell_type": "markdown",
   "metadata": {},
   "source": [
    "## Face detector"
   ]
  },
  {
   "cell_type": "code",
   "execution_count": null,
   "metadata": {},
   "outputs": [],
   "source": [
    "import numpy as np\n",
    "import cv2"
   ]
  },
  {
   "cell_type": "code",
   "execution_count": null,
   "metadata": {},
   "outputs": [],
   "source": [
    "# we point opencv CascadeClassifer function to where our classifier (xml) is stored\n",
    "face_classifier = cv2.CascadeClassifier('haarcascades/haarcascade_frontalface_default.xml')\n",
    "\n",
    "# load our image then convert it to greyscale\n",
    "image = cv2.imread('images/President_Barack_Obama.jpg')\n",
    "gray = cv2.cvtColor(image, cv2.COLOR_BGR2GRAY)\n",
    "\n",
    "# our classifier returns the ROI of the detected face as a tuple \n",
    "# it stores the top left coordinate and the bottom right coordinates \n",
    "faces = face_classifier.detectMultiScale(gray, 1.3, 5)\n",
    "\n",
    "# when no faces detected, face_classifier returns an empty tuple \n",
    "if faces == ():\n",
    "    print('No faces found')\n",
    "\n",
    "# we iterate through our faces array and draw a rectangle over each face in faces\n",
    "for(x,y,w,h) in faces:\n",
    "    cv2.rectangle(image, (x,y), (y+w,y+h), (127,0,255), 2)\n",
    "    cv2.imshow('Face Detection', image)\n",
    "    cv2.waitKey(0)\n",
    "    \n",
    "cv2.destroyAllWindows()"
   ]
  },
  {
   "cell_type": "markdown",
   "metadata": {},
   "source": [
    "## Combined Face & Eye detector"
   ]
  },
  {
   "cell_type": "code",
   "execution_count": null,
   "metadata": {},
   "outputs": [],
   "source": [
    "# we point opencv to our face and eye classifier function to where our classifier is stored in xml format\n",
    "face_classifier = cv2.CascadeClassifier('haarcascades/haarcascade_frontalface_default.xml')\n",
    "eye_classifier = cv2.CascadeClassifier('haarcascades/haarcascade_eye.xml')\n",
    "\n",
    "# load our image then convert it to greyscale\n",
    "image = cv2.imread('images/President_Barack_Obama.jpg')\n",
    "gray = cv2.cvtColor(image, cv2.COLOR_BGR2GRAY)\n",
    "\n",
    "# our classifier returns the ROI of the detected face as a tuple \n",
    "# it stores the top left coordinate and the bottom right coordinates \n",
    "faces = face_classifier.detectMultiScale(gray, 1.3, 5)\n",
    "\n",
    "# when no faces detected, face_classifier returns an empty tuple \n",
    "if faces == ():\n",
    "    print('No faces found')\n",
    "\n",
    "# we iterate through our faces & eyes array and draw a rectangle over each face in faces\n",
    "for(x,y,w,h) in faces:\n",
    "    cv2.rectangle(image, (x,y), (y+w,y+h), (127,0,255), 2)\n",
    "    cv2.imshow('Face & Eye Detection', image)\n",
    "    cv2.waitKey(0)\n",
    "    roi_gray = gray[y:y+h, x:x+w]\n",
    "    roi_color = gray[y:y+h, x:x+w]\n",
    "    eyes = eye_classifier.detectMultiScale(roi_gray)\n",
    "    for (ex,ey,ew,eh) in eyes:\n",
    "        cv2.rectangle(roi_color,(ex,ey),(ex+ew,ey+eh),(255,255,0),2)\n",
    "        cv2.imshow('Face & Eye Detection',image)\n",
    "        cv2.waitKey(0)\n",
    "    \n",
    "cv2.destroyAllWindows()"
   ]
  },
  {
   "cell_type": "code",
   "execution_count": null,
   "metadata": {},
   "outputs": [],
   "source": []
  }
 ],
 "metadata": {
  "kernelspec": {
   "display_name": "TF2py3",
   "language": "python",
   "name": "tf2py3"
  },
  "language_info": {
   "codemirror_mode": {
    "name": "ipython",
    "version": 3
   },
   "file_extension": ".py",
   "mimetype": "text/x-python",
   "name": "python",
   "nbconvert_exporter": "python",
   "pygments_lexer": "ipython3",
   "version": "3.8.3"
  }
 },
 "nbformat": 4,
 "nbformat_minor": 4
}
